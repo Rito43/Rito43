{
  "nbformat": 4,
  "nbformat_minor": 0,
  "metadata": {
    "colab": {
      "provenance": [],
      "gpuType": "T4",
      "include_colab_link": true
    },
    "kernelspec": {
      "name": "python3",
      "display_name": "Python 3"
    },
    "language_info": {
      "name": "python"
    },
    "accelerator": "GPU"
  },
  "cells": [
    {
      "cell_type": "markdown",
      "metadata": {
        "id": "view-in-github",
        "colab_type": "text"
      },
      "source": [
        "<a href=\"https://colab.research.google.com/github/Rito43/Rito43/blob/main/M23CSA021_DLOps_ClassAssignment1.ipynb\" target=\"_parent\"><img src=\"https://colab.research.google.com/assets/colab-badge.svg\" alt=\"Open In Colab\"/></a>"
      ]
    },
    {
      "cell_type": "markdown",
      "source": [
        "Class Assignment 1: CNN on CIFAR-10 data.\n",
        "\n",
        "Total Marks: 30\n"
      ],
      "metadata": {
        "id": "2zyX8ws2kJ_9"
      }
    },
    {
      "cell_type": "markdown",
      "source": [
        "Import the necessary python packages and libraries in the following cell."
      ],
      "metadata": {
        "id": "zCXLoICufNVb"
      }
    },
    {
      "cell_type": "code",
      "execution_count": null,
      "metadata": {
        "id": "Pvvfqso5Lwo5",
        "colab": {
          "base_uri": "https://localhost:8080/"
        },
        "outputId": "caf49a91-ce78-4d3d-9cf3-acb345a69e0b"
      },
      "outputs": [
        {
          "output_type": "stream",
          "name": "stdout",
          "text": [
            "Requirement already satisfied: torchvision in /usr/local/lib/python3.10/dist-packages (0.16.0+cu121)\n",
            "Requirement already satisfied: numpy in /usr/local/lib/python3.10/dist-packages (from torchvision) (1.23.5)\n",
            "Requirement already satisfied: requests in /usr/local/lib/python3.10/dist-packages (from torchvision) (2.31.0)\n",
            "Requirement already satisfied: torch==2.1.0 in /usr/local/lib/python3.10/dist-packages (from torchvision) (2.1.0+cu121)\n",
            "Requirement already satisfied: pillow!=8.3.*,>=5.3.0 in /usr/local/lib/python3.10/dist-packages (from torchvision) (9.4.0)\n",
            "Requirement already satisfied: filelock in /usr/local/lib/python3.10/dist-packages (from torch==2.1.0->torchvision) (3.13.1)\n",
            "Requirement already satisfied: typing-extensions in /usr/local/lib/python3.10/dist-packages (from torch==2.1.0->torchvision) (4.5.0)\n",
            "Requirement already satisfied: sympy in /usr/local/lib/python3.10/dist-packages (from torch==2.1.0->torchvision) (1.12)\n",
            "Requirement already satisfied: networkx in /usr/local/lib/python3.10/dist-packages (from torch==2.1.0->torchvision) (3.2.1)\n",
            "Requirement already satisfied: jinja2 in /usr/local/lib/python3.10/dist-packages (from torch==2.1.0->torchvision) (3.1.3)\n",
            "Requirement already satisfied: fsspec in /usr/local/lib/python3.10/dist-packages (from torch==2.1.0->torchvision) (2023.6.0)\n",
            "Requirement already satisfied: triton==2.1.0 in /usr/local/lib/python3.10/dist-packages (from torch==2.1.0->torchvision) (2.1.0)\n",
            "Requirement already satisfied: charset-normalizer<4,>=2 in /usr/local/lib/python3.10/dist-packages (from requests->torchvision) (3.3.2)\n",
            "Requirement already satisfied: idna<4,>=2.5 in /usr/local/lib/python3.10/dist-packages (from requests->torchvision) (3.6)\n",
            "Requirement already satisfied: urllib3<3,>=1.21.1 in /usr/local/lib/python3.10/dist-packages (from requests->torchvision) (2.0.7)\n",
            "Requirement already satisfied: certifi>=2017.4.17 in /usr/local/lib/python3.10/dist-packages (from requests->torchvision) (2023.11.17)\n",
            "Requirement already satisfied: MarkupSafe>=2.0 in /usr/local/lib/python3.10/dist-packages (from jinja2->torch==2.1.0->torchvision) (2.1.4)\n",
            "Requirement already satisfied: mpmath>=0.19 in /usr/local/lib/python3.10/dist-packages (from sympy->torch==2.1.0->torchvision) (1.3.0)\n"
          ]
        }
      ],
      "source": [
        "## Import the libraries here in this cell\n",
        "!pip install torchvision\n",
        "import torch\n",
        "import torchvision\n",
        "import torchvision.transforms as transforms\n",
        "import torchvision.datasets\n",
        "import torch.optim as optim\n",
        "import torch.nn as nn\n",
        "import torch.nn.functional as F\n",
        "\n",
        "import matplotlib.pyplot as plt\n",
        "import numpy as np\n",
        "from torch.utils.data import DataLoader, Subset\n",
        "import torchvision.models as models\n",
        "from torchvision import datasets\n",
        "from torchvision.models import resnet18\n",
        "\n",
        "\n",
        "\n",
        "\n"
      ]
    },
    {
      "cell_type": "markdown",
      "source": [
        "Q1 (a) Print the torch and torchvision version [Marks: 1+1]"
      ],
      "metadata": {
        "id": "oC2LO3gWXoC6"
      }
    },
    {
      "cell_type": "code",
      "source": [
        "# Your code here\n",
        "\n",
        "print(\"PyTorch version:\", torch.__version__)\n",
        "print(\"torchvision version:\", torchvision.__version__)"
      ],
      "metadata": {
        "id": "DAUwwgq4UoM4",
        "colab": {
          "base_uri": "https://localhost:8080/"
        },
        "outputId": "5595018d-ace8-43b7-b0e3-d3adcfc77ff5"
      },
      "execution_count": null,
      "outputs": [
        {
          "output_type": "stream",
          "name": "stdout",
          "text": [
            "PyTorch version: 2.1.0+cu121\n",
            "torchvision version: 0.16.0+cu121\n"
          ]
        }
      ]
    },
    {
      "cell_type": "markdown",
      "source": [
        "Q1 (b) Set the device to cuda, if available. [Marks: 1]"
      ],
      "metadata": {
        "id": "ToeCElBBXzDE"
      }
    },
    {
      "cell_type": "code",
      "source": [
        "# device = // Your code here\n",
        "device = torch.device(\"cuda\" if torch.cuda.is_available() else \"cpu\")\n",
        "\n",
        "print(\"Using device:\", device)\n",
        "\n"
      ],
      "metadata": {
        "id": "v36w_JYRN5zi",
        "colab": {
          "base_uri": "https://localhost:8080/"
        },
        "outputId": "ea871715-456e-4ea4-9025-ac62fee476b2"
      },
      "execution_count": null,
      "outputs": [
        {
          "output_type": "stream",
          "name": "stdout",
          "text": [
            "Using device: cuda\n"
          ]
        }
      ]
    },
    {
      "cell_type": "markdown",
      "source": [
        "Q1 Transform or preprocess the data utilizing the following operations.\n",
        "\n",
        "*   Normalize data\n",
        "*   Resize each image to 224 x 224\n",
        "*   Add Color Jitter with hue and saturation as 0.5\n",
        "*   Introduce Random horizontal flips\n",
        "*   Rotate images about 20 degrees\n"
      ],
      "metadata": {
        "id": "uRagh6zpX6eu"
      }
    },
    {
      "cell_type": "code",
      "source": [
        "# transform = // Your code here\n",
        "transform = transforms.Compose([\n",
        "    transforms.Resize((224,224)),\n",
        "    transforms.ColorJitter(hue=0.5,saturation=0.5),\n",
        "    transforms.RandomHorizontalFlip(),\n",
        "    transforms.RandomRotation(20),\n",
        "    transforms.ToTensor(),\n",
        "    transforms.Normalize(mean=[0.5,0.5,0.5],std=[0.5,0.5,0.5])\n",
        "])"
      ],
      "metadata": {
        "id": "jyECVuHCLzjU"
      },
      "execution_count": null,
      "outputs": []
    },
    {
      "cell_type": "markdown",
      "source": [
        "Q2 (a) Train and test Resnet18 on Even numbered Classes in CIFAR10 Dataset. [Marks: 5]"
      ],
      "metadata": {
        "id": "lpigLtrfN_0r"
      }
    },
    {
      "cell_type": "code",
      "source": [
        "# Filter only even-numbered classes\n",
        "import torchvision.datasets\n",
        "\n",
        "trainset = datasets.CIFAR10(root='./data', train=True, download=True, transform=transform)\n",
        "testset = datasets.CIFAR10(root='./data', train=False, download=True, transform=transform)\n",
        "\n",
        "# Your code here\n",
        "even_classes = [i for i in range(0,10,2)]\n",
        "\n",
        "trainset_even = Subset(trainset,[i for i in range(len(trainset)) if trainset.targets[i] in even_classes])\n",
        "testset_even = Subset(testset, [i for i in range(len(testset)) if testset.targets[i] in even_classes])\n",
        "#HINT: Use torch utils Subset class to create a subset of the dataset"
      ],
      "metadata": {
        "colab": {
          "base_uri": "https://localhost:8080/"
        },
        "id": "G9_FJjUTMNTz",
        "outputId": "a662dc10-56a3-480a-a63d-46f500d62073"
      },
      "execution_count": null,
      "outputs": [
        {
          "output_type": "stream",
          "name": "stdout",
          "text": [
            "Files already downloaded and verified\n",
            "Files already downloaded and verified\n"
          ]
        }
      ]
    },
    {
      "cell_type": "code",
      "source": [
        "trainloader = DataLoader(trainset, batch_size=64, shuffle=True, num_workers=2)\n",
        "testloader = DataLoader(testset, batch_size=64, shuffle=False, num_workers=2)"
      ],
      "metadata": {
        "id": "BduF1BRaMXdy"
      },
      "execution_count": null,
      "outputs": []
    },
    {
      "cell_type": "code",
      "source": [
        "model = resnet18(weights='DEFAULT').to(device)\n",
        "model.fc = nn.Linear(model.fc.in_features, len(even_classes)).to(device)"
      ],
      "metadata": {
        "id": "bcy3z3LwMfD_"
      },
      "execution_count": null,
      "outputs": []
    },
    {
      "cell_type": "code",
      "source": [
        "criterion = nn.CrossEntropyLoss()\n",
        "optimizer = optim.Adam(model.parameters(), lr=0.001)"
      ],
      "metadata": {
        "id": "F0so2UU3Mk-H"
      },
      "execution_count": null,
      "outputs": []
    },
    {
      "cell_type": "markdown",
      "source": [
        "Q2 (b) Complete the code for backpropagation inside the train function. [Marks: 5]\n"
      ],
      "metadata": {
        "id": "BE34EPF5cSx1"
      }
    },
    {
      "cell_type": "code",
      "source": [
        "def train(model, trainloader, criterion, optimizer, device):\n",
        "\n",
        "    model.train()\n",
        "\n",
        "    train_loss = 0.0\n",
        "    correct_train = 0\n",
        "    total_train = 0\n",
        "\n",
        "    for inputs, labels in trainloader:\n",
        "\n",
        "        inputs, labels = inputs.to(device), labels.to(device)\n",
        "\n",
        "        # Complete the code\n",
        "        optimizer.zero_grad()\n",
        "        outputs = model(inputs)\n",
        "        loss = criterion(outputs,labels)\n",
        "\n",
        "        loss.backward()\n",
        "        optimizer.step()\n",
        "\n",
        "        train_loss+=loss.item()\n",
        "\n",
        "\n",
        "        _, pred = outputs.max(1)\n",
        "        total_train += labels.size(0)\n",
        "        correct_train += pred.eq(labels).sum().item()\n",
        "\n",
        "    train_acc = 100 * correct_train / total_train\n",
        "\n",
        "    return train_loss/len(trainloader), train_acc"
      ],
      "metadata": {
        "id": "Dk3Ve6KZMwzo"
      },
      "execution_count": null,
      "outputs": []
    },
    {
      "cell_type": "markdown",
      "source": [
        "Q2 (c) Complete the test function to test out the model. [Marks: 5]"
      ],
      "metadata": {
        "id": "qyLTfPyQcndU"
      }
    },
    {
      "cell_type": "code",
      "source": [
        "def test(model, testloader, criterion, device):\n",
        "    model.eval()\n",
        "    correct_test = 0\n",
        "    total_test = 0\n",
        "\n",
        "    # Your code here\n",
        "    with torch.no_grad():\n",
        "      for inputs,labels in testloader:\n",
        "        inputs,labels = inputs.to(device),labels.to(device)\n",
        "\n",
        "        outputs = model(inputs)\n",
        "        loss = criterion(outputs,labels)\n",
        "\n",
        "        _,pred = outputs.max(1)\n",
        "        total_test +=labels.size(0)\n",
        "        correct_test+=pred.eq(labels).sum().item()\n",
        "    test_accuracy = 100 * correct_test / total_test\n",
        "\n",
        "    return test_accuracy"
      ],
      "metadata": {
        "id": "4hKN8C5oNrH8"
      },
      "execution_count": null,
      "outputs": []
    },
    {
      "cell_type": "markdown",
      "source": [
        "Q3 (a) Complete the code to plot the train and test accuracies [Marks: 2]"
      ],
      "metadata": {
        "id": "yv8URWXMaiDE"
      }
    },
    {
      "cell_type": "code",
      "source": [
        "import matplotlib.pyplot as plt"
      ],
      "metadata": {
        "id": "VhElKocu3OZK"
      },
      "execution_count": null,
      "outputs": []
    },
    {
      "cell_type": "code",
      "source": [
        "def plot_accuracies(train_accuracies, test_accuracies, epochs):\n",
        "\n",
        "    # Your code here\n",
        "    plt.plot(epochs, train_acc, label='Train Accuracy')\n",
        "    plt.plot(epochs, test_accuracy, label='Test Accuracy')\n",
        "\n",
        "    plt.xlabel('Epochs')\n",
        "    plt.ylabel('Accuracy')\n",
        "    plt.title('Train and Test Accuracies vs Epochs')\n",
        "    plt.legend()\n",
        "    plt.show()\n"
      ],
      "metadata": {
        "id": "YapUFkS5NzHs"
      },
      "execution_count": null,
      "outputs": []
    },
    {
      "cell_type": "markdown",
      "source": [
        "Q3 (b) Complete the code to plot a Confusion Matrix (without sklearn) [Marks: 3]"
      ],
      "metadata": {
        "id": "Cr2ILH4bXhw9"
      }
    },
    {
      "cell_type": "code",
      "source": [
        "import seaborn as sns"
      ],
      "metadata": {
        "id": "18NUF_Vh4zzu"
      },
      "execution_count": null,
      "outputs": []
    },
    {
      "cell_type": "code",
      "source": [
        "def plot_confusion_matrix(model, dataloader, class_names, device):\n",
        "    model.eval()\n",
        "    all_labels = []\n",
        "    all_predictions = []\n",
        "\n",
        "    num_classes = len(class_names)\n",
        "    confusion_matrix = torch.zeros(num_classes, num_classes)\n",
        "\n",
        "    # Your code here\n",
        "    with torch.no_grad():\n",
        "      for inputs,labels in dataloader:\n",
        "        inputs,labels = inputs.to(device),labels.to(device)\n",
        "        outputs = model(inputs)\n",
        "        _,predictions = outputs.max(1)\n",
        "        all_labels.extend(labels.cpu().numpy())\n",
        "        all_predictions.extend(predictions.cpu().numpy())\n",
        "\n",
        "    confusion_matrix = confusion_matrix(all_labels,all_predictions)\n",
        "\n",
        "\n",
        "    plt.figure(figsize=(num_classes, num_classes))\n",
        "    sns.heatmap(confusion_matrix, annot=True, fmt=\".0f\", cmap=\"Blues\", xticklabels=class_names, yticklabels=class_names)\n",
        "    plt.xlabel('Predicted')\n",
        "    plt.ylabel('Actual')\n",
        "    plt.title('Confusion Matrix')\n",
        "    plt.show()\n"
      ],
      "metadata": {
        "id": "TcCb7VHRP7Mz"
      },
      "execution_count": null,
      "outputs": []
    }
  ]
}